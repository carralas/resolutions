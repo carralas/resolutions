{
 "cells": [
  {
   "cell_type": "markdown",
   "metadata": {},
   "source": [
    "# Before your start:\n",
    "- Read the README.md file\n",
    "- Comment as much as you can and use the resources in the README.md file\n",
    "- Happy learning!"
   ]
  },
  {
   "cell_type": "markdown",
   "metadata": {},
   "source": [
    "# Challenge 1 - Matrix Functions\n",
    "\n",
    "#### We would like to create our own matrix. To make life simple for us, we can represent matrices as a list of lists. For the sake of simplicity, we will assume that the maximum number of dimensions a matrix will have is 2.\n",
    "\n",
    "The most basic thing we would like to do with two matrices is to add them together. To add two matrices, we must perform a number of checks. The first check we would like to perform is whether the matrix is two dimesional. This is because we want to limit ourselves to two dimensional matrices to simplify our problem. In the cell below write a function that checks is a matrix is two dimesional. "
   ]
  },
  {
   "cell_type": "code",
   "execution_count": 16,
   "metadata": {},
   "outputs": [],
   "source": [
    "def twodim(mat):\n",
    "    if type(mat) != list:\n",
    "        print(\"No dimension\")\n",
    "        return False\n",
    "    for line in mat:\n",
    "        if type(line) != list:\n",
    "            print(\"One dimension\")\n",
    "            return False\n",
    "        else:\n",
    "            for obj in line:\n",
    "                if type(obj) == list:\n",
    "                    print(\"More than two dimensions\")\n",
    "                    return False\n",
    "    else: return True"
   ]
  },
  {
   "cell_type": "code",
   "execution_count": 49,
   "metadata": {},
   "outputs": [
    {
     "name": "stdout",
     "output_type": "stream",
     "text": [
      "No dimension\n",
      "5 False \n",
      "\n",
      "One dimension\n",
      "[1, 2] False \n",
      "\n",
      "One dimension\n",
      "[[1, 2], 0] False \n",
      "\n",
      "[[1, 2], [4, 5]] True \n",
      "\n",
      "[[1, 2], [4, 5], [7, 8]] True \n",
      "\n",
      "One dimension\n",
      "[[1, 2], 4, 5] False \n",
      "\n",
      "More than two dimensions\n",
      "[[1, 2], [4, [0, 0]]] False\n"
     ]
    }
   ],
   "source": [
    "mat = 5\n",
    "print(mat, twodim(mat), \"\\n\")\n",
    "mat = [1,2]\n",
    "print(mat, twodim(mat), \"\\n\")\n",
    "mat = [[1,2],0]\n",
    "print(mat, twodim(mat), \"\\n\")\n",
    "mat = [[1,2],[4,5]]\n",
    "print(mat, twodim(mat), \"\\n\")\n",
    "mat = [[1,2],[4,5],[7,8]]\n",
    "print(mat, twodim(mat), \"\\n\")\n",
    "mat = [[1,2],4,5]\n",
    "print(mat, twodim(mat), \"\\n\")\n",
    "mat = [[1,2],[4,[0,0]]]\n",
    "print(mat, twodim(mat))"
   ]
  },
  {
   "cell_type": "markdown",
   "metadata": {},
   "source": [
    "# Bonus Challenge 1 - Write the function recursively\n",
    "\n",
    "Rewrite the `twodim` function using recursion. \n",
    "Read more about recursion [here](https://www.cs.utah.edu/~germain/PPS/Topics/recursion.html)\n",
    "\n",
    "Hint: stop your recursion when there are no more lists, this wil be the depth of your matrix. Check that this depth is equal to 2.\n",
    "Second Hint: At every level of the recursion, use the filter function to keep only the members of the list that are lists."
   ]
  },
  {
   "cell_type": "code",
   "execution_count": 30,
   "metadata": {},
   "outputs": [],
   "source": [
    "def twodimrecursive(mat):\n",
    "    dim = 0\n",
    "    if type(mat) == int: pass\n",
    "    elif type(mat) == list:\n",
    "        dim += 1\n",
    "        print(mat, dim)\n",
    "        for line in mat:\n",
    "            return twodimrecursive(line)\n",
    "    else: raise TypeError(\"??\")"
   ]
  },
  {
   "cell_type": "code",
   "execution_count": 33,
   "metadata": {},
   "outputs": [
    {
     "name": "stdout",
     "output_type": "stream",
     "text": [
      "[[1, 2], [4, 5, [6, 7]]] 1\n",
      "[1, 2] 1\n"
     ]
    }
   ],
   "source": [
    "mat = [[1,2],[4,5]]\n",
    "\n",
    "twodimrecursive(mat)"
   ]
  },
  {
   "cell_type": "markdown",
   "metadata": {},
   "source": [
    "#### Next, we will write a function that checks for the number of rows and columns of a matrix. \n",
    "\n",
    "Recall that the outer list will tell us the number of rows and the inner lists will tell us the number of columns. Make sure that all inner lists are of the same length."
   ]
  },
  {
   "cell_type": "code",
   "execution_count": 17,
   "metadata": {},
   "outputs": [],
   "source": [
    "def rowcolumn(mat):\n",
    "    if twodim(mat) == True:\n",
    "        rows = 0\n",
    "        checker = 0\n",
    "        for line in mat:\n",
    "            columns = 0\n",
    "            if rows == 0: checker = len(line)\n",
    "            rows += 1\n",
    "            for value in line:\n",
    "                columns += 1\n",
    "            if checker != columns:\n",
    "                print(\"Inner lists are of different length\")\n",
    "                return False\n",
    "            else: checker = columns\n",
    "        return (rows, columns)\n",
    "    else: return False"
   ]
  },
  {
   "cell_type": "code",
   "execution_count": 35,
   "metadata": {},
   "outputs": [
    {
     "name": "stdout",
     "output_type": "stream",
     "text": [
      "(3, 4)\n"
     ]
    }
   ],
   "source": [
    "print(rowcolumn([[1,2,3,4], [5,6,7,8], [9,10,11,12]]))"
   ]
  },
  {
   "cell_type": "markdown",
   "metadata": {},
   "source": [
    "#### Our next step is to write a function that compares two matrices and tells us whether they are of equal size.\n",
    "\n",
    "In this function we will check whether the number of rows and number of columns is the same."
   ]
  },
  {
   "cell_type": "code",
   "execution_count": 24,
   "metadata": {},
   "outputs": [],
   "source": [
    "def compare(mat1, mat2):\n",
    "    if rowcolumn(mat1) == rowcolumn(mat2): return True\n",
    "    else: return False"
   ]
  },
  {
   "cell_type": "code",
   "execution_count": 27,
   "metadata": {},
   "outputs": [
    {
     "name": "stdout",
     "output_type": "stream",
     "text": [
      "True\n"
     ]
    }
   ],
   "source": [
    "mat1 = [[1,2,3],[4,5,6]]\n",
    "mat2 = [[7,8,9],[10,11,12]]\n",
    "print(compare(mat1, mat2))"
   ]
  },
  {
   "cell_type": "markdown",
   "metadata": {},
   "source": [
    "#### Now that we have all the tools we need, write a function that adds two matrices together. \n",
    "\n",
    "Remember that a matrix is represented as a list of lists. Therefore, we must add each element in the list. The plus symbol is used for concatenating two lists and not for adding every element in two lists."
   ]
  },
  {
   "cell_type": "code",
   "execution_count": 28,
   "metadata": {},
   "outputs": [],
   "source": [
    "def addition(mat1, mat2):\n",
    "    if compare(mat1, mat2) == True:\n",
    "        mat3 = []\n",
    "        for i in range(len(mat1)):\n",
    "            mat3.append([])\n",
    "            for j in range(len(mat1[i])):\n",
    "                mat3[i].append(mat1[i][j]+mat2[i][j])\n",
    "        return mat3\n",
    "    else:\n",
    "        print(\"Not possible\")\n",
    "        return False"
   ]
  },
  {
   "cell_type": "code",
   "execution_count": 29,
   "metadata": {},
   "outputs": [
    {
     "data": {
      "text/plain": [
       "[[8, 10, 12], [14, 16, 18]]"
      ]
     },
     "execution_count": 29,
     "metadata": {},
     "output_type": "execute_result"
    }
   ],
   "source": [
    "addition([[1,2,3],[4,5,6]], \n",
    "         [[7,8,9],[10,11,12]])"
   ]
  },
  {
   "cell_type": "markdown",
   "metadata": {},
   "source": [
    "# Challenge 2 - Creating the Class\n",
    "\n",
    "In the cell below, you will be creating the class Matrix2D. Use the functions you have written above and tweak them according to the instructions in the comments. You got this!"
   ]
  },
  {
   "cell_type": "code",
   "execution_count": 47,
   "metadata": {},
   "outputs": [],
   "source": [
    "class Matrix2D:\n",
    "\n",
    "    def __init__(self, mat):\n",
    "        self.mat = mat\n",
    "        self.rows = self.rowcolumn(mat)[0]\n",
    "        self.columns = self.rowcolumn(mat)[1]\n",
    "    \n",
    "    def twodim(self, mat):\n",
    "        if type(mat) != list:\n",
    "            print(\"No dimension\")\n",
    "            return False\n",
    "        for line in mat:\n",
    "            if type(line) != list:\n",
    "                print(\"One dimension\")\n",
    "                return False\n",
    "            else:\n",
    "                for obj in line:\n",
    "                    if type(obj) == list:\n",
    "                        print(\"More than two dimensions\")\n",
    "                        return False\n",
    "        else: return True\n",
    "    \n",
    "    def rowcolumn(self, mat):\n",
    "        if self.twodim(mat) == True:\n",
    "            rows = 0\n",
    "            checker = 0\n",
    "            for line in mat:\n",
    "                columns = 0\n",
    "                if rows == 0: checker = len(line)\n",
    "                rows += 1\n",
    "                for value in line:\n",
    "                    columns += 1\n",
    "                if checker != columns:\n",
    "                    print(\"Inner lists are of different length\")\n",
    "                    return False\n",
    "                else: checker = columns\n",
    "            return (rows, columns)\n",
    "        else: return False\n",
    "\n",
    "    def compare(self, mat1, mat2):\n",
    "        if self.rowcolumn(mat1) == self.rowcolumn(mat2): return True\n",
    "        else: return False\n",
    "\n",
    "    def addition(self, mat2):\n",
    "        if self.compare(self.mat, mat2.mat) == True:\n",
    "            mat3 = []\n",
    "            for i in range(len(self.mat)):\n",
    "                mat3.append([])\n",
    "                for j in range(len(self.mat[i])):\n",
    "                    mat3[i].append(self.mat[i][j]+mat2.mat[i][j])\n",
    "            return Matrix2D(mat3)\n",
    "        else:\n",
    "            print(\"Not possible\")\n",
    "            return False\n",
    "    # Insert the addition function here\n",
    "    # This function now takes self and matrix (another matrix of the Matrix2D class)\n",
    "    # Change the compare function to self.compare \n",
    "    # Change any reference to mat1 and mat2 to self.mat and matrix.mat respectively\n",
    "    # Return your result as a Matrix2D(result). This will ensure that we return a new matrix and not a list of lists.\n",
    "    \n",
    "    # Your code here:\n"
   ]
  },
  {
   "cell_type": "code",
   "execution_count": 48,
   "metadata": {},
   "outputs": [
    {
     "data": {
      "text/plain": [
       "[[8, 10, 12], [14, 16, 18]]"
      ]
     },
     "execution_count": 48,
     "metadata": {},
     "output_type": "execute_result"
    }
   ],
   "source": [
    "Matrix2D([[1,2,3],[4,5,6]]).addition(Matrix2D([[7,8,9],[10,11,12]])).mat"
   ]
  },
  {
   "cell_type": "markdown",
   "metadata": {},
   "source": [
    "# Bonus Challenge 2 - Transpose Function\n",
    "\n",
    "#### Write a function that transposes the matrix and add it to your class.\n",
    "\n",
    "You can read more about the transpose of a matrix [here](https://en.wikipedia.org/wiki/Transpose).\n",
    "\n",
    "Hint: Use the zip function. Read about it [here](https://docs.python.org/3.3/library/functions.html#zip)\n",
    "\n",
    "Second Hint: Read about the asterisk in Python [here](https://docs.python.org/3/reference/expressions.html#expression-lists)"
   ]
  },
  {
   "cell_type": "code",
   "execution_count": 18,
   "metadata": {},
   "outputs": [],
   "source": [
    "def transpose(mat):\n",
    "    if twodim(mat) == True and rowcolumn(mat) != False:\n",
    "        return [i for i in zip(*mat)]\n",
    "    else:\n",
    "        print(\"Cannot transpose\")\n",
    "        return False"
   ]
  },
  {
   "cell_type": "code",
   "execution_count": 19,
   "metadata": {},
   "outputs": [
    {
     "name": "stdout",
     "output_type": "stream",
     "text": [
      "[(1, 4), (2, 5), (3, 6)]\n"
     ]
    }
   ],
   "source": [
    "print(transpose([[1,2,3],[4,5,6]]))"
   ]
  }
 ],
 "metadata": {
  "kernelspec": {
   "display_name": "Python 3",
   "language": "python",
   "name": "python3"
  },
  "language_info": {
   "codemirror_mode": {
    "name": "ipython",
    "version": 3
   },
   "file_extension": ".py",
   "mimetype": "text/x-python",
   "name": "python",
   "nbconvert_exporter": "python",
   "pygments_lexer": "ipython3",
   "version": "3.7.4"
  }
 },
 "nbformat": 4,
 "nbformat_minor": 4
}

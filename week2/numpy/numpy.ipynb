{
 "cells": [
  {
   "cell_type": "markdown",
   "metadata": {},
   "source": [
    "### 1. Import the NUMPY package under the name np."
   ]
  },
  {
   "cell_type": "code",
   "execution_count": 1,
   "metadata": {},
   "outputs": [],
   "source": [
    "import numpy as np"
   ]
  },
  {
   "cell_type": "markdown",
   "metadata": {},
   "source": [
    "### 2. Print the NUMPY version and the configuration."
   ]
  },
  {
   "cell_type": "code",
   "execution_count": 5,
   "metadata": {},
   "outputs": [
    {
     "name": "stdout",
     "output_type": "stream",
     "text": [
      "1.17.2\n"
     ]
    }
   ],
   "source": [
    "print(np.version.version)"
   ]
  },
  {
   "cell_type": "markdown",
   "metadata": {},
   "source": [
    "### 3. Generate a 2x3x5 3-dimensional array with random values. Assign the array to variable \"a\"\n",
    "* Challenge: there are at least three easy ways that use numpy to generate random arrays. How many ways can you find?"
   ]
  },
  {
   "cell_type": "code",
   "execution_count": 15,
   "metadata": {},
   "outputs": [],
   "source": [
    "a = np.random.random((2,3,5))"
   ]
  },
  {
   "cell_type": "markdown",
   "metadata": {},
   "source": [
    "### 4. Print a."
   ]
  },
  {
   "cell_type": "code",
   "execution_count": 11,
   "metadata": {},
   "outputs": [
    {
     "name": "stdout",
     "output_type": "stream",
     "text": [
      "[[[0.33205605 0.04754665 0.2199339  0.64457256 0.75400436]\n",
      "  [0.83147742 0.95507176 0.15601678 0.99632707 0.79376691]\n",
      "  [0.44759567 0.30075135 0.91565363 0.71237504 0.11536292]]\n",
      "\n",
      " [[0.17377791 0.92489693 0.20322719 0.34696963 0.82959518]\n",
      "  [0.50531773 0.15275151 0.85868985 0.60167021 0.54943977]\n",
      "  [0.23398041 0.02498141 0.93249905 0.33765924 0.11527469]]]\n"
     ]
    }
   ],
   "source": [
    "print(a)"
   ]
  },
  {
   "cell_type": "markdown",
   "metadata": {},
   "source": [
    "### 5. Create a 5x2x3 3-dimensional array with all values equaling 1.\n",
    "#Assign the array to variable \"b\""
   ]
  },
  {
   "cell_type": "code",
   "execution_count": 12,
   "metadata": {},
   "outputs": [],
   "source": [
    "b = np.ones((5,3,2))"
   ]
  },
  {
   "cell_type": "markdown",
   "metadata": {},
   "source": [
    "### 6. Print b."
   ]
  },
  {
   "cell_type": "code",
   "execution_count": 13,
   "metadata": {},
   "outputs": [
    {
     "name": "stdout",
     "output_type": "stream",
     "text": [
      "[[[1. 1.]\n",
      "  [1. 1.]\n",
      "  [1. 1.]]\n",
      "\n",
      " [[1. 1.]\n",
      "  [1. 1.]\n",
      "  [1. 1.]]\n",
      "\n",
      " [[1. 1.]\n",
      "  [1. 1.]\n",
      "  [1. 1.]]\n",
      "\n",
      " [[1. 1.]\n",
      "  [1. 1.]\n",
      "  [1. 1.]]\n",
      "\n",
      " [[1. 1.]\n",
      "  [1. 1.]\n",
      "  [1. 1.]]]\n"
     ]
    }
   ],
   "source": [
    "print(b)"
   ]
  },
  {
   "cell_type": "markdown",
   "metadata": {},
   "source": [
    "### 7. Do a and b have the same size? How do you prove that in Python code?"
   ]
  },
  {
   "cell_type": "code",
   "execution_count": 16,
   "metadata": {},
   "outputs": [
    {
     "name": "stdout",
     "output_type": "stream",
     "text": [
      "False\n"
     ]
    }
   ],
   "source": [
    "print(len(a) == len(b))"
   ]
  },
  {
   "cell_type": "markdown",
   "metadata": {},
   "source": [
    "### 8. Are you able to add a and b? Why or why not?"
   ]
  },
  {
   "cell_type": "code",
   "execution_count": 19,
   "metadata": {},
   "outputs": [],
   "source": [
    "#Although both arrays have the same number of elements they vary in shape so addition is not possible"
   ]
  },
  {
   "cell_type": "markdown",
   "metadata": {},
   "source": [
    "### 9. Transpose b so that it has the same structure of a (i.e. become a 2x3x5 array). Assign the transposed array to varialbe \"c\"."
   ]
  },
  {
   "cell_type": "code",
   "execution_count": 21,
   "metadata": {},
   "outputs": [],
   "source": [
    "c = np.transpose(b)"
   ]
  },
  {
   "cell_type": "markdown",
   "metadata": {},
   "source": [
    "### 10. Try to add a and c. Now it should work. Assign the sum to varialbe \"d\". But why does it work now?"
   ]
  },
  {
   "cell_type": "code",
   "execution_count": 22,
   "metadata": {},
   "outputs": [],
   "source": [
    "d = a+c"
   ]
  },
  {
   "cell_type": "code",
   "execution_count": 23,
   "metadata": {},
   "outputs": [
    {
     "name": "stdout",
     "output_type": "stream",
     "text": [
      "[[[1.3134988  1.22822981 1.00124614 1.2170239  1.75265749]\n",
      "  [1.29823148 1.37515291 1.09842278 1.06375011 1.42685899]\n",
      "  [1.35636318 1.84982297 1.60670835 1.46260875 1.29340425]]\n",
      "\n",
      " [[1.61152823 1.05731737 1.20880567 1.3362162  1.21601514]\n",
      "  [1.7010969  1.53537087 1.64971689 1.07012293 1.88643528]\n",
      "  [1.49796927 1.64609133 1.92076018 1.78754824 1.59710999]]]\n"
     ]
    }
   ],
   "source": [
    "#As both arrays have the same shape it's possible to add them\n",
    "print(d)"
   ]
  },
  {
   "cell_type": "markdown",
   "metadata": {},
   "source": [
    "### 11. Print a and d. Notice the difference and relation of the two array in terms of the values? Explain."
   ]
  },
  {
   "cell_type": "code",
   "execution_count": 26,
   "metadata": {},
   "outputs": [
    {
     "name": "stdout",
     "output_type": "stream",
     "text": [
      "[[[0.3134988  0.22822981 0.00124614 0.2170239  0.75265749]\n",
      "  [0.29823148 0.37515291 0.09842278 0.06375011 0.42685899]\n",
      "  [0.35636318 0.84982297 0.60670835 0.46260875 0.29340425]]\n",
      "\n",
      " [[0.61152823 0.05731737 0.20880567 0.3362162  0.21601514]\n",
      "  [0.7010969  0.53537087 0.64971689 0.07012293 0.88643528]\n",
      "  [0.49796927 0.64609133 0.92076018 0.78754824 0.59710999]]]\n",
      "\n",
      "\n",
      "[[[1.3134988  1.22822981 1.00124614 1.2170239  1.75265749]\n",
      "  [1.29823148 1.37515291 1.09842278 1.06375011 1.42685899]\n",
      "  [1.35636318 1.84982297 1.60670835 1.46260875 1.29340425]]\n",
      "\n",
      " [[1.61152823 1.05731737 1.20880567 1.3362162  1.21601514]\n",
      "  [1.7010969  1.53537087 1.64971689 1.07012293 1.88643528]\n",
      "  [1.49796927 1.64609133 1.92076018 1.78754824 1.59710999]]]\n"
     ]
    }
   ],
   "source": [
    "#Array d has all values as they are in array a plus 1, as a+c = d and c is a array full of 1\n",
    "print(a)\n",
    "print(\"\\n\")\n",
    "print(d)"
   ]
  },
  {
   "cell_type": "markdown",
   "metadata": {},
   "source": [
    "### 12. Multiply a and c. Assign the result to e."
   ]
  },
  {
   "cell_type": "code",
   "execution_count": 27,
   "metadata": {},
   "outputs": [],
   "source": [
    "e = a*c"
   ]
  },
  {
   "cell_type": "markdown",
   "metadata": {},
   "source": [
    "### 13. Does e equal to a? Why or why not?"
   ]
  },
  {
   "cell_type": "code",
   "execution_count": 28,
   "metadata": {},
   "outputs": [
    {
     "name": "stdout",
     "output_type": "stream",
     "text": [
      "[[[0.3134988  0.22822981 0.00124614 0.2170239  0.75265749]\n",
      "  [0.29823148 0.37515291 0.09842278 0.06375011 0.42685899]\n",
      "  [0.35636318 0.84982297 0.60670835 0.46260875 0.29340425]]\n",
      "\n",
      " [[0.61152823 0.05731737 0.20880567 0.3362162  0.21601514]\n",
      "  [0.7010969  0.53537087 0.64971689 0.07012293 0.88643528]\n",
      "  [0.49796927 0.64609133 0.92076018 0.78754824 0.59710999]]]\n"
     ]
    }
   ],
   "source": [
    "#It's not equal because multiplication and addition have different outputs in almost every single case\n",
    "print(e)"
   ]
  },
  {
   "cell_type": "markdown",
   "metadata": {},
   "source": [
    "### 14. Identify the max, min, and mean values in d. Assign those values to variables \"d_max\", \"d_min\", and \"d_mean\""
   ]
  },
  {
   "cell_type": "code",
   "execution_count": 51,
   "metadata": {},
   "outputs": [
    {
     "name": "stdout",
     "output_type": "stream",
     "text": [
      "1.0012461398180301 1.4355361468977261 1.920760179719501\n"
     ]
    }
   ],
   "source": [
    "d_min = np.min(d)\n",
    "d_mean = np.mean(d)\n",
    "d_max = np.max(d)\n",
    "print(d_min, d_mean, d_max)"
   ]
  },
  {
   "cell_type": "markdown",
   "metadata": {},
   "source": [
    "### 15. Now we want to label the values in d. First create an empty array \"f\" with the same shape (i.e. 2x3x5) as d using `np.empty`."
   ]
  },
  {
   "cell_type": "code",
   "execution_count": 47,
   "metadata": {},
   "outputs": [
    {
     "name": "stdout",
     "output_type": "stream",
     "text": [
      "[[[0.3134988  0.22822981 0.00124614 0.2170239  0.75265749]\n",
      "  [0.29823148 0.37515291 0.09842278 0.06375011 0.42685899]\n",
      "  [0.35636318 0.84982297 0.60670835 0.46260875 0.29340425]]\n",
      "\n",
      " [[0.61152823 0.05731737 0.20880567 0.3362162  0.21601514]\n",
      "  [0.7010969  0.53537087 0.64971689 0.07012293 0.88643528]\n",
      "  [0.49796927 0.64609133 0.92076018 0.78754824 0.59710999]]]\n"
     ]
    }
   ],
   "source": [
    "f = np.empty((2,3,5))\n",
    "print(f)"
   ]
  },
  {
   "cell_type": "markdown",
   "metadata": {},
   "source": [
    "\n",
    "### 16. Populate the values in f.\n",
    "For each value in d, if it's larger than d_min but smaller than d_mean, assign 25 to the corresponding value in f.\n",
    "If a value in d is larger than d_mean but smaller than d_max, assign 75 to the corresponding value in f.\n",
    "If a value equals to d_mean, assign 50 to the corresponding value in f.\n",
    "Assign 0 to the corresponding value(s) in f for d_min in d.\n",
    "Assign 100 to the corresponding value(s) in f for d_max in d.\n",
    "In the end, f should have only the following values: 0, 25, 50, 75, and 100.\n",
    "Note: you don't have to use Numpy in this question.\n"
   ]
  },
  {
   "cell_type": "code",
   "execution_count": 56,
   "metadata": {},
   "outputs": [],
   "source": [
    "i = 0\n",
    "for array2d in d:\n",
    "    j = 0\n",
    "    for array1d in array2d:\n",
    "        k = 0\n",
    "        for value in array1d:\n",
    "            if value > d_min and value < d_mean: f[i,j,k] = 25\n",
    "            elif value > d_mean and value < d_max: f[i,j,k] = 75\n",
    "            elif value == d_min: f[i,j,k] = 0\n",
    "            elif value == d_mean: f[i,j,k] = 50\n",
    "            elif value == d_max: f[i,j,k] = 100\n",
    "            k += 1\n",
    "        j += 1\n",
    "    i += 1"
   ]
  },
  {
   "cell_type": "markdown",
   "metadata": {},
   "source": [
    "### 17. Print d and f. Do you have your expected f?\n",
    "For instance, if your d is:\n",
    "array([[[1.85836099, 1.67064465, 1.62576044, 1.40243961, 1.88454931],\n",
    "        [1.75354326, 1.69403643, 1.36729252, 1.61415071, 1.12104981],\n",
    "        [1.72201435, 1.1862918 , 1.87078449, 1.7726778 , 1.88180042]],\n",
    "\n",
    "       [[1.44747908, 1.31673383, 1.02000951, 1.52218947, 1.97066381],\n",
    "        [1.79129243, 1.74983003, 1.96028037, 1.85166831, 1.65450881],\n",
    "        [1.18068344, 1.9587381 , 1.00656599, 1.93402165, 1.73514584]]])\n",
    "\n",
    "Your f should be:\n",
    "array([[[ 75.,  75.,  75.,  25.,  75.],\n",
    "        [ 75.,  75.,  25.,  25.,  25.],\n",
    "        [ 75.,  25.,  75.,  75.,  75.]],\n",
    "\n",
    "       [[ 25.,  25.,  25.,  25., 100.],\n",
    "        [ 75.,  75.,  75.,  75.,  75.],\n",
    "        [ 25.,  75.,   0.,  75.,  75.]]])\n",
    "\"\"\""
   ]
  },
  {
   "cell_type": "code",
   "execution_count": 57,
   "metadata": {},
   "outputs": [
    {
     "name": "stdout",
     "output_type": "stream",
     "text": [
      "[[[1.3134988  1.22822981 1.00124614 1.2170239  1.75265749]\n",
      "  [1.29823148 1.37515291 1.09842278 1.06375011 1.42685899]\n",
      "  [1.35636318 1.84982297 1.60670835 1.46260875 1.29340425]]\n",
      "\n",
      " [[1.61152823 1.05731737 1.20880567 1.3362162  1.21601514]\n",
      "  [1.7010969  1.53537087 1.64971689 1.07012293 1.88643528]\n",
      "  [1.49796927 1.64609133 1.92076018 1.78754824 1.59710999]]]\n",
      "\n",
      "\n",
      "[[[ 25.  25.   0.  25.  75.]\n",
      "  [ 25.  25.  25.  25.  25.]\n",
      "  [ 25.  75.  75.  75.  25.]]\n",
      "\n",
      " [[ 75.  25.  25.  25.  25.]\n",
      "  [ 75.  75.  75.  25.  75.]\n",
      "  [ 75.  75. 100.  75.  75.]]]\n"
     ]
    }
   ],
   "source": [
    "#I got the expected f!\n",
    "print(d)\n",
    "print(\"\\n\")\n",
    "print(f)"
   ]
  },
  {
   "cell_type": "markdown",
   "metadata": {},
   "source": [
    "### 18. Bonus question: instead of using numbers (i.e. 0, 25, 50, 75, and 100), how to use string values \n",
    "(\"A\", \"B\", \"C\", \"D\", and \"E\") to label the array elements? You are expecting the result to be:\n",
    "array([[[ 'D',  'D',  'D',  'B',  'D'],\n",
    "        [ 'D',  'D',  'B',  'B',  'B'],\n",
    "        [ 'D',  'B',  'D',  'D',  'D']],\n",
    "\n",
    "       [[ 'B',  'B',  'B',  'B',  'E'],\n",
    "        [ 'D',  'D',  'D',  'D',  'D'],\n",
    "        [ 'B',  'D',   'A',  'D', 'D']]])\n",
    "Again, you don't need Numpy in this question.\n",
    "\"\"\"\n"
   ]
  },
  {
   "cell_type": "code",
   "execution_count": 76,
   "metadata": {},
   "outputs": [],
   "source": [
    "g = []\n",
    "i = 0\n",
    "for array2d in d:\n",
    "    g.append([])\n",
    "    j = 0\n",
    "    for array1d in array2d:\n",
    "        g[i].append([])\n",
    "        k = 0\n",
    "        for value in array1d:\n",
    "            if value > d_min and value < d_mean: g[i][j].append('B')\n",
    "            elif value > d_mean and value < d_max: g[i][j].append('D')\n",
    "            elif value == d_min: g[i][j].append('A')\n",
    "            elif value == d_mean: g[i][j].append('C')\n",
    "            elif value == d_max: g[i][j].append('E')\n",
    "            k += 1\n",
    "        j += 1\n",
    "    i += 1"
   ]
  },
  {
   "cell_type": "code",
   "execution_count": 77,
   "metadata": {},
   "outputs": [
    {
     "name": "stdout",
     "output_type": "stream",
     "text": [
      "[[['B', 'B', 'A', 'B', 'D'], ['B', 'B', 'B', 'B', 'B'], ['B', 'D', 'D', 'D', 'B']], [['D', 'B', 'B', 'B', 'B'], ['D', 'D', 'D', 'B', 'D'], ['D', 'D', 'E', 'D', 'D']]]\n"
     ]
    }
   ],
   "source": [
    "print(g)"
   ]
  }
 ],
 "metadata": {
  "kernelspec": {
   "display_name": "Python 3",
   "language": "python",
   "name": "python3"
  },
  "language_info": {
   "codemirror_mode": {
    "name": "ipython",
    "version": 3
   },
   "file_extension": ".py",
   "mimetype": "text/x-python",
   "name": "python",
   "nbconvert_exporter": "python",
   "pygments_lexer": "ipython3",
   "version": "3.7.4"
  }
 },
 "nbformat": 4,
 "nbformat_minor": 2
}

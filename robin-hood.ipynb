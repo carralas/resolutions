{
 "cells": [
  {
   "cell_type": "markdown",
   "metadata": {},
   "source": [
    "# Robin Hood:\n",
    "We are in a competition to win the archery contest in Sherwood. With our bow and arrows we shoot on a target and try to hit as close as possible to the center.\n",
    "\n",
    "The center of the target is represented by the values (0, 0) on the coordinate axes.\n",
    "\n",
    "![](images/arrows.jpg)\n",
    "\n",
    "## Goals:\n",
    "* data structures: lists, sets, tuples\n",
    "* logical operators: if-elif-else\n",
    "* loop: while/for\n",
    "* minimum (optional sorting)\n",
    "\n",
    "## Description:\n",
    "In the 2-dimensional space, a point can be defined by a pair of values that correspond to the horizontal coordinate (x) and the vertical coordinate (y). The space can be divided into 4 zones (quadrants): Q1, Q2, Q3, Q4. Whose single point of union is the point (0, 0).\n",
    "\n",
    "If a point is in Q1 both its x coordinate and the y are positive. I leave a link to wikipedia to familiarize yourself with these quadrants.\n",
    "\n",
    "https://en.wikipedia.org/wiki/Cartesian_coordinate_system\n",
    "\n",
    "https://en.wikipedia.org/wiki/Euclidean_distance\n",
    "\n",
    "## Shots\n",
    "```\n",
    "points = [(4, 5), (-0, 2), (4, 7), (1, -3), (3, -2), (4, 5),\n",
    "          (3, 2), (5, 7), (-5, 7), (2, 2), (-4, 5), (0, -2),\n",
    "          (-4, 7), (-1, 3), (-3, 2), (-4, -5), (-3, 2),\n",
    "          (5, 7), (5, 7), (2, 2), (9, 9), (-8, -9)]\n",
    "```\n",
    "\n",
    "## Tasks\n",
    "1. Robin Hood is famous for hitting an arrow with another arrow. Did you get it?\n",
    "2. Calculate how many arrows have fallen in each quadrant.\n",
    "3. Find the point closest to the center. Calculate its distance to the center. \n",
    "4. If the target has a radius of 9, calculate the number of arrows that must be picked up in the forest."
   ]
  },
  {
   "cell_type": "code",
   "execution_count": 1,
   "metadata": {},
   "outputs": [],
   "source": [
    "# Variables\n",
    "\n",
    "points = [(4, 5), (-0, 2), (4, 7), (1, -3), (3, -2), (4, 5),\n",
    "          (3, 2), (5, 7), (-5, 7), (2, 2), (-4, 5), (0, -2),\n",
    "          (-4, 7), (-1, 3), (-3, 2), (-4, -5), (-3, 2),\n",
    "          (5, 7), (5, 7), (2, 2), (9, 9), (-8, -9)]"
   ]
  },
  {
   "cell_type": "code",
   "execution_count": 2,
   "metadata": {},
   "outputs": [],
   "source": [
    "# 1. Robin Hood is famous for hitting an arrow with another arrow. Did you get it?\n",
    "\n"
   ]
  },
  {
   "cell_type": "code",
   "execution_count": 3,
   "metadata": {},
   "outputs": [],
   "source": [
    "# 2. Calculate how many arrows have fallen in each quadrant.\n",
    "\n"
   ]
  },
  {
   "cell_type": "code",
   "execution_count": 4,
   "metadata": {},
   "outputs": [],
   "source": [
    "# 3. Find the point closest to the center. Calculate its distance to the center\n",
    "# Defining a function that calculates the distance to the center can help.\n",
    "\n"
   ]
  },
  {
   "cell_type": "code",
   "execution_count": 5,
   "metadata": {},
   "outputs": [],
   "source": [
    "# 4. If the target has a radius of 9, calculate the number of arrows that \n",
    "# must be picked up in the forest.\n",
    "\n"
   ]
  },
  {
   "cell_type": "code",
   "execution_count": 6,
   "metadata": {},
   "outputs": [
    {
     "name": "stdout",
     "output_type": "stream",
     "text": [
      "You've done it just like Robin Hood and hit an arrow with another arrow!\n",
      "10 arrows on Q1\n",
      "6 arrows on Q2\n",
      "2 arrows on Q3\n",
      "2 arrows on Q4\n",
      "2 arrows exactly on the division of two quadrants\n",
      "The closest arrow hit at point [(0, 2)] at a distance of 2.0\n",
      "You've missed 2 arrows and should pick them up in the forest\n"
     ]
    }
   ],
   "source": [
    "from math import sqrt\n",
    "\n",
    "points = [(4, 5), (-0, 2), (4, 7), (1, -3), (3, -2), (4, 5),\n",
    "          (3, 2), (5, 7), (-5, 7), (2, 2), (-4, 5), (0, -2),\n",
    "          (-4, 7), (-1, 3), (-3, 2), (-4, -5), (-3, 2),\n",
    "          (5, 7), (5, 7), (2, 2), (9, 9), (-8, -9)]\n",
    "distance = 0.0\n",
    "closest = 9.0\n",
    "coordinates = [(0, 0)]\n",
    "Q1 = 0\n",
    "Q2 = 0\n",
    "Q3 = 0\n",
    "Q4 = 0\n",
    "Q0 = 0\n",
    "missed = 0\n",
    "def position(x, y): return sqrt(x**2+y**2)\n",
    "\n",
    "if len(set(points)) < len(points): print(\"You've done it just like Robin Hood and hit an arrow with another arrow!\")\n",
    "else: print(\"Keep training until you can shoot like Robin Hood.\")\n",
    "for x, y in points:\n",
    "    if y == 0 or x == 0: Q0 += 1\n",
    "    elif y > 0:\n",
    "        if x > 0: Q1 += 1\n",
    "        else: Q2 += 1\n",
    "    else:\n",
    "        if x < 0: Q3 += 1\n",
    "        else: Q4 += 1\n",
    "    distance = position(x,y)\n",
    "    if distance < closest:\n",
    "        closest = distance\n",
    "        coordinates = [(x, y)]\n",
    "    if distance > 9: missed += 1\n",
    "print(Q1, \"arrows on Q1\")\n",
    "print(Q2, \"arrows on Q2\")\n",
    "print(Q3, \"arrows on Q3\")\n",
    "print(Q4, \"arrows on Q4\")\n",
    "print(Q0, \"arrows exactly on the division of two quadrants\")\n",
    "print(\"The closest arrow hit at point\", coordinates, \"at a distance of\", closest)\n",
    "print(\"You've missed\", missed, \"arrows and should pick them up in the forest\")"
   ]
  },
  {
   "cell_type": "code",
   "execution_count": 6,
   "metadata": {},
   "outputs": [
    {
     "name": "stdout",
     "output_type": "stream",
     "text": [
      "0 arrows in the center\n",
      "0 arrows on the ring of number 1\n",
      "0 arrows on the ring of number 2\n",
      "4 arrows on the ring of number 3\n",
      "6 arrows on the ring of number 4\n",
      "0 arrows on the ring of number 5\n",
      "0 arrows on the ring of number 6\n",
      "4 arrows on the ring of number 7\n",
      "0 arrows on the ring of number 8\n",
      "6 arrows on the ring of number 9\n",
      "2 arrows missed\n"
     ]
    }
   ],
   "source": [
    "from math import sqrt\n",
    "\n",
    "points = [(4, 5), (-0, 2), (4, 7), (1, -3), (3, -2), (4, 5),\n",
    "          (3, 2), (5, 7), (-5, 7), (2, 2), (-4, 5), (0, -2),\n",
    "          (-4, 7), (-1, 3), (-3, 2), (-4, -5), (-3, 2),\n",
    "          (5, 7), (5, 7), (2, 2), (9, 9), (-8, -9)]\n",
    "ring = [0, 0, 0, 0, 0, 0, 0, 0, 0, 0, 0]\n",
    "distance = 0.0\n",
    "missed = 0\n",
    "def position(x, y): return sqrt(x**2+y**2)\n",
    "\n",
    "for x, y in points:\n",
    "    if position(x, y) > 9: ring[10] += 1\n",
    "    else:\n",
    "        if position (x, y) == 0: ring[0] += 1\n",
    "        else: ring[int(position(x,y)+1)] += 1\n",
    "\n",
    "for k in range(len(ring)):\n",
    "    if k == 0: print(ring[k], \"arrows in the center\")\n",
    "    elif k < 10: print(ring[k], \"arrows on the ring of number\", k)\n",
    "    else: print(ring[k], \"arrows missed\")"
   ]
  },
  {
   "cell_type": "code",
   "execution_count": null,
   "metadata": {},
   "outputs": [],
   "source": []
  }
 ],
 "metadata": {
  "kernelspec": {
   "display_name": "Python 3",
   "language": "python",
   "name": "python3"
  },
  "language_info": {
   "codemirror_mode": {
    "name": "ipython",
    "version": 3
   },
   "file_extension": ".py",
   "mimetype": "text/x-python",
   "name": "python",
   "nbconvert_exporter": "python",
   "pygments_lexer": "ipython3",
   "version": "3.7.4"
  }
 },
 "nbformat": 4,
 "nbformat_minor": 2
}

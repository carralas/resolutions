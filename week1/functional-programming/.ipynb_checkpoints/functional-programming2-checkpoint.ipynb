{
 "cells": [
  {
   "cell_type": "markdown",
   "metadata": {},
   "source": [
    "In the cell below, create a Python function that wraps your previous solution for the Bag of Words lab.\n",
    "\n",
    "Requirements:\n",
    "\n",
    "1. Your function should accept the following parameters:\n",
    "    * `docs` [REQUIRED] - array of document paths.\n",
    "    * `stop_words` [OPTIONAL] - array of stop words. The default value is an empty array.\n",
    "\n",
    "1. Your function should return a Python object that contains the following:\n",
    "    * `bag_of_words` - array of strings of normalized unique words in the corpus.\n",
    "    * `term_freq` - array of the term-frequency vectors."
   ]
  },
  {
   "cell_type": "code",
   "execution_count": 5,
   "metadata": {},
   "outputs": [],
   "source": [
    "import re"
   ]
  },
  {
   "cell_type": "code",
   "execution_count": 10,
   "metadata": {},
   "outputs": [],
   "source": [
    "def get_bow_from_docs(docs, stop_words=[]):\n",
    "    corpus = []\n",
    "    bag_of_words = []\n",
    "    term_freq = []\n",
    "    \n",
    "    for filename in docs:\n",
    "        with open('data/' + filename, 'r') as file:\n",
    "            for text in file: corpus.append(text.lower().strip('.'))\n",
    "    for text in corpus:\n",
    "        for word in text.split(' '):\n",
    "            if word not in bag_of_words and word not in stop_words: bag_of_words.append(word)\n",
    "    for text in corpus:\n",
    "        text_split = text.split(' ')\n",
    "        k = 0\n",
    "        word_counter = [0 for k in range(len(bag_of_words))]\n",
    "        for word in bag_of_words:\n",
    "            while word in text_split:\n",
    "                text_split.remove(word)\n",
    "                word_counter[k] += 1\n",
    "            k += 1\n",
    "        term_freq.append(word_counter)\n",
    "    return {\n",
    "        \"bagOfWords\": bag_of_words,\n",
    "        \"termFreq\": term_freq\n",
    "    }"
   ]
  },
  {
   "cell_type": "markdown",
   "metadata": {},
   "source": [
    "Test your function without stop words. You should see the output like below:\n",
    "\n",
    "```{'bag_of_words': ['ironhack', 'is', 'cool', 'i', 'love', 'am', 'a', 'student', 'at'], 'term_freq': [[1, 1, 1, 0, 0, 0, 0, 0, 0], [1, 0, 0, 1, 1, 0, 0, 0, 0], [1, 0, 0, 1, 0, 1, 1, 1, 1]]}```"
   ]
  },
  {
   "cell_type": "code",
   "execution_count": 11,
   "metadata": {},
   "outputs": [],
   "source": [
    "docs = ['doc1.txt',\n",
    "       'doc2.txt',\n",
    "       'doc3.txt']"
   ]
  },
  {
   "cell_type": "code",
   "execution_count": 12,
   "metadata": {},
   "outputs": [],
   "source": [
    "bow = get_bow_from_docs(docs)"
   ]
  },
  {
   "cell_type": "code",
   "execution_count": 13,
   "metadata": {},
   "outputs": [
    {
     "name": "stdout",
     "output_type": "stream",
     "text": [
      "{'bagOfWords': ['ironhack', 'is', 'cool', 'i', 'love', 'am', 'a', 'student', 'at'], 'termFreq': [[1, 1, 1, 0, 0, 0, 0, 0, 0], [1, 0, 0, 1, 1, 0, 0, 0, 0], [1, 0, 0, 1, 0, 1, 1, 1, 1]]}\n"
     ]
    }
   ],
   "source": [
    "print(bow)"
   ]
  },
  {
   "cell_type": "markdown",
   "metadata": {},
   "source": [
    "If your attempt above is successful, nice work done!\n",
    "\n",
    "Now test your function again with the stop words. In the previous lab we defined the stop words in a large array. In this lab, we'll import the stop words from Scikit-Learn."
   ]
  },
  {
   "cell_type": "code",
   "execution_count": 15,
   "metadata": {},
   "outputs": [
    {
     "name": "stdout",
     "output_type": "stream",
     "text": [
      "frozenset({'when', 'an', 'could', 'sometime', 'cry', 'been', 'mill', 'much', 'whatever', 'co', 'otherwise', 'hence', 'itself', 'whereupon', 'go', 'she', 'for', 'herself', 'those', 'from', 'to', 'has', 'put', 'being', 'same', 'enough', 'next', 'already', 'below', 'nothing', 'thereupon', 'ourselves', 'beyond', 'con', 'it', 'sometimes', 'once', 'four', 'up', 'very', 'always', 'many', 'beside', 'ten', 'one', 'whither', 'three', 'top', 'through', 'yours', 'nor', 'that', 'whereas', 'made', 'anything', 'amount', 'they', 'someone', 'fire', 'across', 'others', 'amoungst', 'never', 'was', 'still', 'none', 'former', 'mostly', 'throughout', 'these', 'describe', 'fill', 'sixty', 'however', 'eg', 'each', 'couldnt', 'herein', 'except', 'behind', 'were', 'himself', 'no', 'find', 'via', 'something', 'there', 'on', 'seems', 'alone', 'cant', 'every', 'full', 'almost', 'even', 'since', 'toward', 'most', 'or', 'whom', 'take', 'because', 'rather', 'eight', 'beforehand', 'this', 'wherever', 'moreover', 'well', 'may', 'him', 'seeming', 'upon', 'we', 'any', 'neither', 'over', 'keep', 'thereafter', 'you', 'until', 'un', 'be', 'should', 'latterly', 'hundred', 'among', 'whether', 'during', 'would', 'themselves', 'than', 'fifty', 'both', 'he', 'towards', 'where', 'became', 'the', 'amongst', 'about', 'its', 'besides', 'move', 'against', 'must', 'only', 'least', 'therein', 'system', 'anyone', 'their', 'not', 'everywhere', 'whole', 'hers', 'elsewhere', 'bottom', 'less', 'will', 'formerly', 'them', 'several', 'more', 'which', 'interest', 'my', 'who', 'often', 'what', 'ours', 'bill', 'so', 'some', 'anyhow', 'ltd', 'of', 'another', 'twelve', 'between', 'become', 'whereafter', 'part', 'therefore', 'fifteen', 'side', 'other', 'mine', 'see', 'within', 'call', 'somewhere', 'thence', 'out', 'twenty', 'nowhere', 'together', 'meanwhile', 'etc', 'a', 'also', 'per', 'us', 'why', 'cannot', 'down', 'me', 'anyway', 'six', 'can', 'your', 'into', 'back', 'front', 'further', 'last', 'sincere', 'how', 'whose', 'in', 'by', 'third', 'at', 'too', 'either', 'seemed', 'becomes', 'such', 'under', 'while', 'name', 'all', 'nine', 'yourselves', 'hereby', 'thru', 'afterwards', 'thin', 'after', 'along', 'above', 'yourself', 'here', 'done', 'empty', 'thick', 'thereby', 'becoming', 'if', 'whenever', 'hereafter', 'whoever', 'i', 'everyone', 'inc', 'nobody', 'his', 'perhaps', 'ever', 'namely', 'wherein', 'show', 'eleven', 'our', 'onto', 're', 'whence', 'two', 'get', 'then', 'nevertheless', 'hereupon', 'am', 'noone', 'might', 'though', 'de', 'somehow', 'first', 'as', 'anywhere', 'yet', 'detail', 'without', 'around', 'serious', 'indeed', 'is', 'although', 'have', 'do', 'please', 'give', 'forty', 'few', 'found', 'seem', 'her', 'thus', 'with', 'own', 'and', 'myself', 'had', 'due', 'ie', 'hasnt', 'whereby', 'else', 'again', 'are', 'latter', 'before', 'but', 'off', 'five', 'everything', 'now'})\n"
     ]
    }
   ],
   "source": [
    "from sklearn.feature_extraction import stop_words\n",
    "print(stop_words.ENGLISH_STOP_WORDS)"
   ]
  },
  {
   "cell_type": "markdown",
   "metadata": {},
   "source": [
    "You should have seen a large list of words that looks like:\n",
    "\n",
    "```frozenset({'across', 'mine', 'cannot', ...})```\n",
    "\n",
    "`frozenset` is a type of Python object that is immutable. In this lab you can use it just like an array without conversion."
   ]
  },
  {
   "cell_type": "markdown",
   "metadata": {},
   "source": [
    "Next, test your function with supplying `stop_words.ENGLISH_STOP_WORDS` as the second parameter."
   ]
  },
  {
   "cell_type": "code",
   "execution_count": 16,
   "metadata": {},
   "outputs": [],
   "source": [
    "bow = get_bow_from_docs(docs, stop_words=stop_words.ENGLISH_STOP_WORDS)"
   ]
  },
  {
   "cell_type": "code",
   "execution_count": 17,
   "metadata": {},
   "outputs": [
    {
     "name": "stdout",
     "output_type": "stream",
     "text": [
      "{'bagOfWords': ['ironhack', 'cool', 'love', 'student'], 'termFreq': [[1, 1, 0, 0], [1, 0, 1, 0], [1, 0, 0, 1]]}\n"
     ]
    }
   ],
   "source": [
    "print(bow)"
   ]
  },
  {
   "cell_type": "markdown",
   "metadata": {},
   "source": [
    "You should have seen:\n",
    "\n",
    "```{'bag_of_words': ['ironhack', 'cool', 'love', 'student'], 'term_freq': [[1, 1, 0, 0], [1, 0, 1, 0], [1, 0, 0, 1]]}```"
   ]
  }
 ],
 "metadata": {
  "kernelspec": {
   "display_name": "Python 3",
   "language": "python",
   "name": "python3"
  },
  "language_info": {
   "codemirror_mode": {
    "name": "ipython",
    "version": 3
   },
   "file_extension": ".py",
   "mimetype": "text/x-python",
   "name": "python",
   "nbconvert_exporter": "python",
   "pygments_lexer": "ipython3",
   "version": "3.7.4"
  }
 },
 "nbformat": 4,
 "nbformat_minor": 4
}
